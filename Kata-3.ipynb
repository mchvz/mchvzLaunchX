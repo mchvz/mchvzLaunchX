{
 "cells": [
  {
   "cell_type": "markdown",
   "metadata": {},
   "source": [
    "Añadir el código necesario para crear una variable que guarde la velocidad del asteroide.\n",
    "Escribe una expresión de prueba para calcular si necesita una advertencia.\n",
    "Agregue las instrucciones que se ejecutarán si la expresión de prueba es true o false."
   ]
  },
  {
   "cell_type": "code",
   "execution_count": 16,
   "metadata": {},
   "outputs": [
    {
     "name": "stdout",
     "output_type": "stream",
     "text": [
      "Se acerca un asteroide\n"
     ]
    }
   ],
   "source": [
    "velAst = 45\n",
    "adv = velAst > 25\n",
    "if adv:\n",
    "    print(\"Se acerca un asteroide\")"
   ]
  },
  {
   "cell_type": "markdown",
   "metadata": {},
   "source": [
    "Agrega el código para crear una variable para un asteroide que viaja a 19 km/s\n",
    "Escribe varias expresiones de prueba para determinar si puedes ver el rayo de luz desde la tierra\n",
    "Agrega las instrucciones que se ejecutarán si las expresiones de prueba son True o False"
   ]
  },
  {
   "cell_type": "code",
   "execution_count": 17,
   "metadata": {},
   "outputs": [],
   "source": [
    "velAst = 19\n",
    "luz = velAst >= 20\n",
    "if luz:\n",
    "    print(\"Busca un asteroide en el cielo\")"
   ]
  },
  {
   "cell_type": "markdown",
   "metadata": {},
   "source": [
    "Agrega el código para crear nuevas variables para la velocidad y el tamaño del asteroide\n",
    "Para probar el código, prueba con varias velocidades y tamaños\n",
    "Escribe varias expresiones de prueba o combinaciones de expresiones de prueba para determinar qué mensaje se debe enviar a Tierra."
   ]
  },
  {
   "cell_type": "code",
   "execution_count": 18,
   "metadata": {},
   "outputs": [],
   "source": [
    "astV = 20\n",
    "astD = 50"
   ]
  },
  {
   "cell_type": "code",
   "execution_count": 19,
   "metadata": {},
   "outputs": [],
   "source": [
    "adv = astV >= 25\n",
    "luz = astV >= 20\n",
    "ent = astD > 25 and astD < 1000"
   ]
  },
  {
   "cell_type": "code",
   "execution_count": 21,
   "metadata": {},
   "outputs": [
    {
     "name": "stdout",
     "output_type": "stream",
     "text": [
      "Busca un asteroide en el cielo\n"
     ]
    }
   ],
   "source": [
    "if adv and ent:\n",
    "    print(\"Entrara un asteroide a la tierra y causara mucho dano\")\n",
    "elif luz:\n",
    "    print(\"Busca un asteroide en el cielo\")"
   ]
  }
 ],
 "metadata": {
  "kernelspec": {
   "display_name": "Python 3",
   "language": "python",
   "name": "python3"
  },
  "language_info": {
   "codemirror_mode": {
    "name": "ipython",
    "version": 3
   },
   "file_extension": ".py",
   "mimetype": "text/x-python",
   "name": "python",
   "nbconvert_exporter": "python",
   "pygments_lexer": "ipython3",
   "version": "3.8.5"
  }
 },
 "nbformat": 4,
 "nbformat_minor": 4
}
